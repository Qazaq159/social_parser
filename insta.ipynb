{
 "cells": [
  {
   "cell_type": "code",
   "execution_count": 1,
   "metadata": {
    "collapsed": true,
    "pycharm": {
     "name": "#%%\n"
    }
   },
   "outputs": [
    {
     "name": "stderr",
     "output_type": "stream",
     "text": [
      "/tmp/ipykernel_157308/2233772030.py:7: DeprecationWarning: executable_path has been deprecated, please pass in a Service object\n",
      "  driver = webdriver.Chrome('drivers/chromedriver')\n"
     ]
    }
   ],
   "source": [
    "from selenium.webdriver.common.by import By\n",
    "from selenium.webdriver.common.keys import Keys\n",
    "from selenium import webdriver\n",
    "import selenium\n",
    "from time import sleep\n",
    "\n",
    "driver = webdriver.Chrome('drivers/chromedriver')\n",
    "driver.get('https://instagram.com')\n",
    "sleep(1.5)\n",
    "\n",
    "username = driver.find_element(By.XPATH, '//input[@name=\"username\"]')\n",
    "username.send_keys('yzhaksylykov11')\n",
    "\n",
    "password = driver.find_element(By.XPATH, '//input[@name=\"password\"]')\n",
    "password.send_keys('Instagram2020')\n",
    "\n",
    "password.send_keys(Keys.ENTER)\n",
    "\n",
    "sleep(3)\n",
    "\n",
    "while True:\n",
    "    try:\n",
    "        press = driver.find_element(By.XPATH, '//button[text() = \"Not Now\"]')\n",
    "        press.send_keys(Keys.RETURN)\n",
    "    except:\n",
    "        break"
   ]
  },
  {
   "cell_type": "code",
   "execution_count": 117,
   "outputs": [],
   "source": [
    "# driver.get('https://instagram.com/zuck')\n",
    "# links = set()\n",
    "# body = driver.find_element(By.TAG_NAME, 'body')"
   ],
   "metadata": {
    "collapsed": false,
    "pycharm": {
     "name": "#%%\n"
    }
   }
  },
  {
   "cell_type": "code",
   "execution_count": 2,
   "outputs": [],
   "source": [
    "# posts[0].get_attribute('href')\n",
    "driver.get('https://www.instagram.com/kairatzholdybaiuly/')\n",
    "sleep(2)\n",
    "#\n",
    "# posts = driver.find_elements(By.XPATH,\n",
    "#                              '//div[@style=\"flex-direction: column; padding-bottom: 0px; padding-top: 0px;\"]/div//a[@tabindex=\"0\"]')\n",
    "\n",
    "posts_link = list()\n",
    "prev_h = driver.execute_script('return window.pageYOffset')\n",
    "body = driver.find_element(By.TAG_NAME, 'body')\n",
    "\n",
    "while len(posts_link) < 110:\n",
    "    cards = body.find_elements(By.XPATH, '//div[@class=\"Nnq7C weEfm\"]//a[@tabindex=\"0\"]')\n",
    "\n",
    "    for card in cards:\n",
    "        link = card.get_attribute('href')\n",
    "        if link not in posts_link:\n",
    "            posts_link.append(link)\n",
    "\n",
    "    body.send_keys(Keys.PAGE_DOWN)\n",
    "    sleep(1)\n",
    "\n",
    "    cur_h = driver.execute_script('return window.pageYOffset')\n",
    "    if prev_h == cur_h:\n",
    "        break\n",
    "\n",
    "    prev_h = cur_h"
   ],
   "metadata": {
    "collapsed": false,
    "pycharm": {
     "name": "#%%\n"
    }
   }
  },
  {
   "cell_type": "code",
   "execution_count": 3,
   "outputs": [],
   "source": [
    "def get_post_data(post, driver):\n",
    "    driver.get(post)\n",
    "    sleep(0.5)\n",
    "\n",
    "    try:\n",
    "        content = driver.find_element(By.XPATH, '//div[@class=\"_97aPb   wKWK0\"]//video').get_attribute('src')\n",
    "    except:\n",
    "        content = driver.find_element(By.XPATH, '//div[@class=\"_97aPb   wKWK0\"]//img').get_attribute('src')\n",
    "\n",
    "    try:\n",
    "        text = driver.find_element(By.XPATH, '//div[@class=\"EtaWk \"]//div[@class=\"MOdxS \"]').text\n",
    "    except:\n",
    "        text = ''\n",
    "\n",
    "    return content, text\n",
    "\n"
   ],
   "metadata": {
    "collapsed": false,
    "pycharm": {
     "name": "#%%\n"
    }
   }
  },
  {
   "cell_type": "code",
   "execution_count": 4,
   "outputs": [
    {
     "name": "stdout",
     "output_type": "stream",
     "text": [
      "\n",
      "\n",
      "\n",
      "\n",
      "\n",
      "\n",
      "\n",
      "\n",
      "\n",
      "\n",
      "\n",
      "\n"
     ]
    },
    {
     "ename": "KeyboardInterrupt",
     "evalue": "",
     "output_type": "error",
     "traceback": [
      "\u001B[0;31m---------------------------------------------------------------------------\u001B[0m",
      "\u001B[0;31mKeyboardInterrupt\u001B[0m                         Traceback (most recent call last)",
      "Input \u001B[0;32mIn [4]\u001B[0m, in \u001B[0;36m<cell line: 1>\u001B[0;34m()\u001B[0m\n\u001B[1;32m      1\u001B[0m \u001B[38;5;28;01mfor\u001B[39;00m card \u001B[38;5;129;01min\u001B[39;00m posts_link:\n\u001B[0;32m----> 2\u001B[0m     \u001B[38;5;28mprint\u001B[39m(\u001B[43mget_post_data\u001B[49m\u001B[43m(\u001B[49m\u001B[43mcard\u001B[49m\u001B[43m,\u001B[49m\u001B[43m \u001B[49m\u001B[43mdriver\u001B[49m\u001B[43m)\u001B[49m)\n",
      "Input \u001B[0;32mIn [3]\u001B[0m, in \u001B[0;36mget_post_data\u001B[0;34m(post, driver)\u001B[0m\n\u001B[1;32m      1\u001B[0m \u001B[38;5;28;01mdef\u001B[39;00m \u001B[38;5;21mget_post_data\u001B[39m(post, driver):\n\u001B[1;32m      2\u001B[0m     driver\u001B[38;5;241m.\u001B[39mget(post)\n\u001B[0;32m----> 3\u001B[0m     \u001B[43msleep\u001B[49m\u001B[43m(\u001B[49m\u001B[38;5;241;43m0.5\u001B[39;49m\u001B[43m)\u001B[49m\n\u001B[1;32m      5\u001B[0m     \u001B[38;5;28;01mtry\u001B[39;00m:\n\u001B[1;32m      6\u001B[0m         content \u001B[38;5;241m=\u001B[39m driver\u001B[38;5;241m.\u001B[39mfind_element(By\u001B[38;5;241m.\u001B[39mXPATH, \u001B[38;5;124m'\u001B[39m\u001B[38;5;124m//div[@class=\u001B[39m\u001B[38;5;124m\"\u001B[39m\u001B[38;5;124m_97aPb   wKWK0\u001B[39m\u001B[38;5;124m\"\u001B[39m\u001B[38;5;124m]//video\u001B[39m\u001B[38;5;124m'\u001B[39m)\u001B[38;5;241m.\u001B[39mget_attribute(\u001B[38;5;124m'\u001B[39m\u001B[38;5;124msrc\u001B[39m\u001B[38;5;124m'\u001B[39m)\n",
      "\u001B[0;31mKeyboardInterrupt\u001B[0m: "
     ]
    }
   ],
   "source": [
    "for card in posts_link:\n",
    "    print(get_post_data(card, driver))"
   ],
   "metadata": {
    "collapsed": false,
    "pycharm": {
     "name": "#%%\n"
    }
   }
  },
  {
   "cell_type": "code",
   "execution_count": null,
   "outputs": [],
   "source": [],
   "metadata": {
    "collapsed": false,
    "pycharm": {
     "name": "#%%\n"
    }
   }
  },
  {
   "cell_type": "code",
   "execution_count": 12,
   "outputs": [
    {
     "name": "stderr",
     "output_type": "stream",
     "text": [
      "/tmp/ipykernel_157308/1578072601.py:1: DeprecationWarning: executable_path has been deprecated, please pass in a Service object\n",
      "  driver1 = webdriver.Chrome('drivers/chromedriver')\n"
     ]
    },
    {
     "name": "stdout",
     "output_type": "stream",
     "text": [
      "Украина Қарулы күштері Пайғамбарымызға салауат айтып, мұсылмандарды ораза айт мейрамымен құттықтады.\n"
     ]
    }
   ],
   "source": [
    "driver1 = webdriver.Chrome('drivers/chromedriver')\n",
    "driver1.get('https://www.instagram.com/p/CdBp57xlcLb/')\n",
    "s = driver1.find_element(By.XPATH, '//div[@class=\"EtaWk \"]//div[@class=\"MOdxS \"]').text\n",
    "print(s)"
   ],
   "metadata": {
    "collapsed": false,
    "pycharm": {
     "name": "#%%\n"
    }
   }
  }
 ],
 "metadata": {
  "kernelspec": {
   "display_name": "Python 3",
   "language": "python",
   "name": "python3"
  },
  "language_info": {
   "codemirror_mode": {
    "name": "ipython",
    "version": 2
   },
   "file_extension": ".py",
   "mimetype": "text/x-python",
   "name": "python",
   "nbconvert_exporter": "python",
   "pygments_lexer": "ipython2",
   "version": "2.7.6"
  }
 },
 "nbformat": 4,
 "nbformat_minor": 0
}