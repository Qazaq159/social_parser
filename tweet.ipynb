{
 "cells": [
  {
   "cell_type": "code",
   "execution_count": 373,
   "metadata": {
    "pycharm": {
     "name": "#%%\n"
    }
   },
   "outputs": [
    {
     "name": "stderr",
     "output_type": "stream",
     "text": [
      "/tmp/ipykernel_20181/4287457119.py:51: DeprecationWarning: executable_path has been deprecated, please pass in a Service object\n",
      "  driver = selenium.webdriver.Chrome('drivers/chromedriver')\n"
     ]
    }
   ],
   "source": [
    "import csv\n",
    "from time import sleep\n",
    "from selenium.webdriver.common.keys import Keys\n",
    "import selenium\n",
    "from selenium.webdriver.common.by import By\n",
    "\n",
    "def write_password(driver):\n",
    "    sleep(1.5)\n",
    "    password = driver.find_element(by=By.XPATH,\n",
    "                                   value='//input[@autocomplete=\"current-password\"]')\n",
    "    password.send_keys('Twitter2022$')\n",
    "    password.send_keys(Keys.RETURN)\n",
    "\n",
    "def get_tweet_data(post):\n",
    "    head = post.find_element(By.XPATH, './/div[2]/div[2]/div[1]/div/div/div[1]/div[1]').text.split('\\n')\n",
    "\n",
    "    try:\n",
    "        link = post.find_element(By.XPATH, './/div[2]/div[2]/div[2]/div[2]//a').get_attribute('href')\n",
    "    except:\n",
    "        link = ''\n",
    "\n",
    "    try:\n",
    "        time = post.find_element(By.XPATH, './/div[2]/div[2]/div[1]/div/div/div[1]/a/time').get_attribute('datetime')\n",
    "    except:\n",
    "        time = ''\n",
    "\n",
    "    bottom = post.find_element(By.XPATH, './/div[2]/div[2]/div[2]')\n",
    "    text = post.find_element(By.XPATH,'.//div[2]/div[2]/div[2]/div[1]').text\n",
    "    nickname = head[1]\n",
    "    name = head[0]\n",
    "    reply = bottom.find_element(By.XPATH, './/div[@data-testid=\"reply\"]').get_attribute('aria-label')\n",
    "\n",
    "    try:\n",
    "        retweet = bottom.find_element(By.XPATH, './/div[@data-testid=\"retweet\"]').get_attribute('aria-label')\n",
    "    except:\n",
    "        retweet = bottom.find_element(By.XPATH, './/div[@data-testid=\"unretweet\"]').get_attribute(\"aria-label\")\n",
    "\n",
    "    try:\n",
    "        like = bottom.find_element(By.XPATH, './/div[@data-testid=\"unlike\"]').get_attribute('aria-label')\n",
    "    except:\n",
    "        like = bottom.find_element(By.XPATH, './/div[@data-testid=\"like\"]').get_attribute('aria-label')\n",
    "\n",
    "    return (time, nickname, name, text, link, reply, retweet, like)\n",
    "\n",
    "\n",
    "options = selenium.webdriver.ChromeOptions()\n",
    "\n",
    "options.add_argument('--no-sandbox')\n",
    "options.add_argument('--disable-dev-shm-usage')\n",
    "\n",
    "driver = selenium.webdriver.Chrome('drivers/chromedriver')\n",
    "\n",
    "driver.get('https://twitter.com/login')\n",
    "driver.maximize_window()\n",
    "sleep(2)"
   ]
  },
  {
   "cell_type": "code",
   "execution_count": 374,
   "metadata": {
    "pycharm": {
     "name": "#%%\n"
    }
   },
   "outputs": [],
   "source": [
    "username = driver.find_element(by=By.XPATH, value='//input[@autocomplete=\"username\"]')\n",
    "username.send_keys('zat.tyme.su@gmail.com')\n",
    "username.send_keys(Keys.RETURN)"
   ]
  },
  {
   "cell_type": "code",
   "execution_count": 375,
   "metadata": {
    "pycharm": {
     "name": "#%%\n"
    }
   },
   "outputs": [],
   "source": [
    "try:\n",
    "    write_password(driver)\n",
    "    sleep(2)\n",
    "except:\n",
    "    login = driver.find_element(by=By.XPATH,\n",
    "                                value='//input[@autocomplete=\"on\"]')\n",
    "    login.send_keys('ferkin_kz')\n",
    "    login.send_keys(Keys.RETURN)\n",
    "    sleep(1)\n",
    "\n",
    "    write_password(driver)\n",
    "    sleep(2)"
   ]
  },
  {
   "cell_type": "code",
   "execution_count": 376,
   "metadata": {
    "pycharm": {
     "name": "#%%\n"
    }
   },
   "outputs": [],
   "source": [
    "driver.get('https://twitter.com/elonmusk')\n",
    "sleep(4)"
   ]
  },
  {
   "cell_type": "code",
   "execution_count": 489,
   "metadata": {
    "pycharm": {
     "name": "#%%\n"
    }
   },
   "outputs": [],
   "source": [
    "driver.refresh()\n",
    "sleep(5)\n",
    "data = []\n",
    "tweets_ids = set()\n",
    "last_pos = driver.execute_script('return window.pageYOffset;')\n",
    "scrolling = True\n",
    "\n",
    "while scrolling:\n",
    "    if len(data) > 100:\n",
    "        scrolling = False\n",
    "\n",
    "    page_cards = driver.find_elements(By.XPATH, '//article[@data-testid=\"tweet\"]')\n",
    "    for card in page_cards[-40:]:\n",
    "        tweet = get_tweet_data(card)\n",
    "\n",
    "        if tweet:\n",
    "            tweet_id = ''\n",
    "            for i in tweet:\n",
    "                tweet_id += str(i)\n",
    "\n",
    "            if tweet_id not in tweets_ids:\n",
    "                tweets_ids.add(tweet_id)\n",
    "                data.append(tweet)\n",
    "\n",
    "    scroll_attempt = 0\n",
    "    while True:\n",
    "        driver.execute_script('window.scrollTo(0, document.body.scrollHeight);')\n",
    "        sleep(2)\n",
    "\n",
    "        cur_pos = driver.execute_script('return window.pageYOffset;')\n",
    "        if last_pos == cur_pos:\n",
    "            scroll_attempt += 1\n",
    "\n",
    "            if scroll_attempt >= 3:\n",
    "                driver.execute_script('window.scrollTo(0, -document.body.scrollHeight);')\n",
    "            else:\n",
    "                sleep(2)\n",
    "        else:\n",
    "            last_pos = cur_pos\n",
    "            break\n",
    "\n"
   ]
  },
  {
   "cell_type": "markdown",
   "source": [],
   "metadata": {
    "collapsed": false,
    "pycharm": {
     "name": "#%% md\n"
    }
   }
  },
  {
   "cell_type": "code",
   "execution_count": 490,
   "outputs": [],
   "source": [
    "from operator import itemgetter\n",
    "\n",
    "data.sort(key=itemgetter(0), reverse=True)"
   ],
   "metadata": {
    "collapsed": false,
    "pycharm": {
     "name": "#%%\n"
    }
   }
  },
  {
   "cell_type": "code",
   "execution_count": 491,
   "outputs": [
    {
     "name": "stdout",
     "output_type": "stream",
     "text": [
      "2022-05-01T06:23:15.000Z\n",
      "2022-04-29T21:37:16.000Z\n",
      "2022-04-29T21:19:50.000Z\n",
      "2022-04-29T12:44:05.000Z\n",
      "2022-04-29T12:28:10.000Z\n",
      "2022-04-28T20:58:09.000Z\n",
      "2022-04-28T20:53:49.000Z\n",
      "2022-04-25T00:30:36.000Z\n",
      "2022-04-24T14:25:01.000Z\n",
      "2022-04-24T11:46:48.000Z\n",
      "2022-04-23T04:07:18.000Z\n",
      "2022-04-23T03:30:45.000Z\n",
      "2022-04-22T23:43:11.000Z\n",
      "2022-04-22T23:39:48.000Z\n",
      "2022-04-21T20:20:38.000Z\n",
      "2022-04-21T20:12:46.000Z\n",
      "2022-04-21T20:09:15.000Z\n",
      "2022-04-21T18:56:34.000Z\n",
      "2022-04-21T18:53:55.000Z\n",
      "2022-04-21T18:50:52.000Z\n",
      "2022-04-21T18:01:33.000Z\n",
      "2022-04-21T17:44:09.000Z\n",
      "2022-04-21T03:09:12.000Z\n",
      "2022-04-20T03:32:19.000Z\n",
      "2022-04-19T18:25:05.000Z\n",
      "2022-04-18T21:32:12.000Z\n",
      "2022-04-18T14:15:38.000Z\n",
      "2022-04-08T16:58:08.000Z\n",
      "2022-04-08T15:35:45.000Z\n",
      "2022-04-08T15:18:35.000Z\n",
      "2022-04-08T10:50:44.000Z\n",
      "2022-04-08T01:43:01.000Z\n",
      "2022-04-07T13:50:20.000Z\n",
      "2022-04-07T08:22:22.000Z\n",
      "2022-04-07T08:20:08.000Z\n",
      "2022-04-07T06:17:19.000Z\n",
      "2022-04-07T06:16:04.000Z\n",
      "2022-04-07T06:14:07.000Z\n",
      "2022-04-01T14:01:08.000Z\n",
      "2022-03-28T09:29:09.000Z\n",
      "2022-03-28T08:56:42.000Z\n",
      "2022-03-28T08:12:34.000Z\n",
      "2022-03-27T16:00:51.000Z\n",
      "2022-03-26T17:54:02.000Z\n",
      "2022-03-26T17:51:26.000Z\n",
      "2022-03-26T05:53:24.000Z\n",
      "2022-03-25T16:06:11.000Z\n",
      "2022-03-25T08:26:45.000Z\n",
      "2022-03-25T07:34:52.000Z\n",
      "2022-03-25T01:15:13.000Z\n",
      "2022-03-25T01:06:48.000Z\n",
      "2022-03-24T23:55:26.000Z\n",
      "2022-03-24T23:53:23.000Z\n",
      "2022-03-24T20:26:49.000Z\n",
      "2022-03-24T17:07:22.000Z\n",
      "2022-03-22T13:30:39.000Z\n",
      "2022-03-21T18:38:32.000Z\n",
      "2022-03-19T08:35:46.000Z\n",
      "2022-03-09T14:01:23.000Z\n",
      "2022-03-09T06:47:17.000Z\n",
      "2022-03-07T07:49:42.000Z\n",
      "2022-03-06T23:57:02.000Z\n",
      "2022-03-06T23:33:20.000Z\n",
      "2022-03-06T23:27:00.000Z\n",
      "2022-03-06T14:18:02.000Z\n",
      "2022-03-06T14:06:26.000Z\n",
      "2022-03-06T08:22:41.000Z\n",
      "2022-03-06T04:38:57.000Z\n",
      "2022-03-06T03:45:50.000Z\n",
      "2022-03-05T05:15:51.000Z\n",
      "2022-03-05T04:59:24.000Z\n",
      "2022-03-05T01:22:00.000Z\n",
      "2022-03-05T01:21:07.000Z\n",
      "2022-03-05T00:48:59.000Z\n",
      "2022-03-05T00:40:01.000Z\n",
      "2022-03-03T19:49:51.000Z\n",
      "2022-03-03T18:04:40.000Z\n",
      "2022-03-03T15:45:58.000Z\n",
      "2022-03-03T14:14:27.000Z\n",
      "2022-02-17T19:41:04.000Z\n",
      "2022-02-15T02:31:48.000Z\n",
      "2022-02-15T02:27:54.000Z\n",
      "2022-02-14T22:54:37.000Z\n",
      "2022-02-14T19:44:02.000Z\n",
      "2022-02-14T14:26:13.000Z\n",
      "2022-02-11T20:01:33.000Z\n",
      "2022-02-11T02:41:29.000Z\n",
      "2022-02-11T02:38:49.000Z\n",
      "2022-02-11T02:37:06.000Z\n",
      "2022-02-11T01:55:42.000Z\n",
      "2022-02-10T16:51:44.000Z\n",
      "2022-02-10T05:04:48.000Z\n",
      "2022-02-10T04:53:52.000Z\n",
      "2022-01-30T18:52:01.000Z\n",
      "2022-01-30T17:38:35.000Z\n",
      "2022-01-30T08:26:30.000Z\n",
      "2022-01-29T23:39:10.000Z\n",
      "2022-01-29T11:21:38.000Z\n",
      "2022-01-29T06:48:49.000Z\n",
      "2022-01-29T05:25:18.000Z\n",
      "2022-01-28T17:44:30.000Z\n",
      "2022-01-27T23:56:10.000Z\n",
      "2022-01-27T23:39:57.000Z\n",
      "2022-01-27T22:24:24.000Z\n",
      "2022-01-27T21:00:09.000Z\n",
      "2022-01-27T18:45:22.000Z\n",
      "2022-01-27T17:31:57.000Z\n",
      "2022-01-26T01:07:59.000Z\n",
      "2022-01-25T12:39:40.000Z\n",
      "2022-01-25T12:30:40.000Z\n",
      "2022-01-25T10:48:55.000Z\n",
      "2022-01-16T06:19:15.000Z\n",
      "2022-01-15T23:30:10.000Z\n",
      "2022-01-15T18:50:33.000Z\n",
      "2022-01-15T07:09:37.000Z\n",
      "2022-01-14T06:18:50.000Z\n",
      "2022-01-13T18:46:38.000Z\n",
      "2022-01-13T15:35:09.000Z\n",
      "2022-01-12T04:10:25.000Z\n",
      "2022-01-10T15:51:20.000Z\n",
      "2022-01-09T23:53:14.000Z\n",
      "2022-01-09T08:25:44.000Z\n",
      "2022-01-07T23:28:12.000Z\n",
      "2022-01-07T23:26:23.000Z\n",
      "2022-01-07T23:09:17.000Z\n",
      "2022-01-06T23:39:59.000Z\n",
      "2022-01-06T21:36:56.000Z\n",
      "2022-01-06T06:51:11.000Z\n",
      "2022-01-04T17:33:23.000Z\n"
     ]
    }
   ],
   "source": [
    "for i in data:\n",
    "    print(i[0])"
   ],
   "metadata": {
    "collapsed": false,
    "pycharm": {
     "name": "#%%\n"
    }
   }
  },
  {
   "cell_type": "code",
   "execution_count": 493,
   "outputs": [],
   "source": [
    "with open('musk_twitter.csv', 'w', newline='', encoding='utf-8') as f:\n",
    "    header = ['date', 'username', 'name', 'text', 'content', 'reply', 'retweet', 'like']\n",
    "    writer = csv.writer(f)\n",
    "    writer.writerow(header)\n",
    "    writer.writerows(data)"
   ],
   "metadata": {
    "collapsed": false,
    "pycharm": {
     "name": "#%%\n"
    }
   }
  },
  {
   "cell_type": "markdown",
   "source": [],
   "metadata": {
    "collapsed": false,
    "pycharm": {
     "name": "#%% md\n"
    }
   }
  }
 ],
 "metadata": {
  "kernelspec": {
   "display_name": "Python 3 (ipykernel)",
   "language": "python",
   "name": "python3"
  },
  "language_info": {
   "codemirror_mode": {
    "name": "ipython",
    "version": 3
   },
   "file_extension": ".py",
   "mimetype": "text/x-python",
   "name": "python",
   "nbconvert_exporter": "python",
   "pygments_lexer": "ipython3",
   "version": "3.9.7"
  }
 },
 "nbformat": 4,
 "nbformat_minor": 1
}