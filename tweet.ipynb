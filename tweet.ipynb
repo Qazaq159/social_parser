{
 "cells": [
  {
   "cell_type": "code",
   "execution_count": null,
   "outputs": [],
   "source": [
    "import csv\n",
    "from time import sleep\n",
    "from selenium.webdriver.common.keys import Keys\n",
    "import selenium\n",
    "from selenium.webdriver.common.by import By\n",
    "from selenium.webdriver.support.select import Select\n",
    "\n",
    "\n",
    "\n",
    "options = selenium.webdriver.ChromeOptions()\n",
    "\n",
    "options.add_argument('--no-sandbox')\n",
    "options.add_argument('--disable-dev-shm-usage')\n",
    "\n",
    "driver = selenium.webdriver.Chrome('drivers/chromedriver')\n",
    "\n",
    "driver.get('https://twitter.com/login')"
   ],
   "metadata": {
    "collapsed": false,
    "pycharm": {
     "name": "#%%\n"
    }
   }
  },
  {
   "cell_type": "code",
   "execution_count": null,
   "outputs": [],
   "source": [
    "sleep(2.5)\n",
    "username = driver.find_element(by=By.XPATH, value='//input[@autocomplete=\"username\"]')\n",
    "username.send_keys('zat.tyme.su@gmail.com')\n",
    "username.send_keys(Keys.RETURN)\n",
    "\n",
    "\n",
    "def write_password(driver):\n",
    "    sleep(1.5)\n",
    "    password = driver.find_element(by=By.XPATH,\n",
    "                                   value='//input[@autocomplete=\"current-password\"]')\n",
    "    password.send_keys('Twitter2022$')\n",
    "    password.send_keys(Keys.RETURN)\n"
   ],
   "metadata": {
    "collapsed": false,
    "pycharm": {
     "name": "#%%\n"
    }
   }
  },
  {
   "cell_type": "code",
   "execution_count": null,
   "outputs": [],
   "source": [
    "try:\n",
    "    write_password(driver)\n",
    "    sleep(2)\n",
    "\n",
    "\n",
    "except:\n",
    "    login = driver.find_element(by=By.XPATH,\n",
    "                                value='//input[@autocomplete=\"on\"]')\n",
    "    login.send_keys('ferkin_kz')\n",
    "    login.send_keys(Keys.RETURN)\n",
    "    sleep(1)\n",
    "\n",
    "    write_password(driver)\n",
    "    sleep(2)"
   ],
   "metadata": {
    "collapsed": false,
    "pycharm": {
     "name": "#%%\n"
    }
   }
  },
  {
   "cell_type": "code",
   "execution_count": null,
   "outputs": [],
   "source": [
    "driver.get('https://twitter.com/elonmusk')\n",
    "sleep(4)"
   ],
   "metadata": {
    "collapsed": false,
    "pycharm": {
     "name": "#%%\n"
    }
   }
  },
  {
   "cell_type": "code",
   "execution_count": null,
   "outputs": [],
   "source": [
    "posts = driver.find_elements(By.XPATH, '//article[@data-testid=\"tweet\"]')"
   ],
   "metadata": {
    "collapsed": false,
    "pycharm": {
     "name": "#%%\n"
    }
   }
  },
  {
   "cell_type": "code",
   "execution_count": null,
   "outputs": [],
   "source": [
    "post = posts[0]\n"
   ],
   "metadata": {
    "collapsed": false,
    "pycharm": {
     "name": "#%%\n"
    }
   }
  },
  {
   "cell_type": "code",
   "execution_count": 178,
   "metadata": {},
   "outputs": [
    {
     "data": {
      "text/plain": [
       "'Elon Musk Retweeted\\nSpaceX\\n@SpaceX\\n·\\n7h\\nVideo of Dragon’s Draco thrusters moving the spacecraft closer to the \\n@Space_Station\\n0:07\\n2.1M views\\n1,674\\n4,291\\n39.2K'"
      ]
     },
     "execution_count": 178,
     "metadata": {},
     "output_type": "execute_result"
    }
   ],
   "source": [
    "post = posts[0]\n"
   ]
  }
 ],
 "metadata": {
  "kernelspec": {
   "display_name": "Python 3 (ipykernel)",
   "language": "python",
   "name": "python3"
  },
  "language_info": {
   "codemirror_mode": {
    "name": "ipython",
    "version": 3
   },
   "file_extension": ".py",
   "mimetype": "text/x-python",
   "name": "python",
   "nbconvert_exporter": "python",
   "pygments_lexer": "ipython3",
   "version": "3.9.7"
  }
 },
 "nbformat": 4,
 "nbformat_minor": 1
}