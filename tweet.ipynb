{
 "cells": [
  {
   "cell_type": "code",
   "execution_count": 8,
   "metadata": {
    "pycharm": {
     "name": "#%%\n"
    }
   },
   "outputs": [
    {
     "name": "stderr",
     "output_type": "stream",
     "text": [
      "/tmp/ipykernel_29519/208552570.py:15: DeprecationWarning: executable_path has been deprecated, please pass in a Service object\n",
      "  driver = selenium.webdriver.Chrome('drivers/chromedriver')\n"
     ]
    }
   ],
   "source": [
    "import csv\n",
    "from time import sleep\n",
    "from selenium.webdriver.common.keys import Keys\n",
    "import selenium\n",
    "from selenium.webdriver.common.by import By\n",
    "from selenium.webdriver.support.select import Select\n",
    "\n",
    "\n",
    "\n",
    "options = selenium.webdriver.ChromeOptions()\n",
    "\n",
    "options.add_argument('--no-sandbox')\n",
    "options.add_argument('--disable-dev-shm-usage')\n",
    "\n",
    "driver = selenium.webdriver.Chrome('drivers/chromedriver')\n",
    "\n",
    "driver.get('https://twitter.com/login')"
   ]
  },
  {
   "cell_type": "code",
   "execution_count": 9,
   "metadata": {
    "pycharm": {
     "name": "#%%\n"
    }
   },
   "outputs": [],
   "source": [
    "username = driver.find_element(by=By.XPATH, value='//input[@autocomplete=\"username\"]')\n",
    "username.send_keys('zat.tyme.su@gmail.com')\n",
    "username.send_keys(Keys.RETURN)\n",
    "\n",
    "\n",
    "def write_password(driver):\n",
    "    sleep(1.5)\n",
    "    password = driver.find_element(by=By.XPATH,\n",
    "                                   value='//input[@autocomplete=\"current-password\"]')\n",
    "    password.send_keys('Twitter2022$')\n",
    "    password.send_keys(Keys.RETURN)\n"
   ]
  },
  {
   "cell_type": "code",
   "execution_count": 10,
   "metadata": {
    "pycharm": {
     "name": "#%%\n"
    }
   },
   "outputs": [],
   "source": [
    "try:\n",
    "    write_password(driver)\n",
    "    sleep(2)\n",
    "\n",
    "\n",
    "except:\n",
    "    login = driver.find_element(by=By.XPATH,\n",
    "                                value='//input[@autocomplete=\"on\"]')\n",
    "    login.send_keys('ferkin_kz')\n",
    "    login.send_keys(Keys.RETURN)\n",
    "    sleep(1)\n",
    "\n",
    "    write_password(driver)\n",
    "    sleep(2)"
   ]
  },
  {
   "cell_type": "code",
   "execution_count": 11,
   "metadata": {
    "pycharm": {
     "name": "#%%\n"
    }
   },
   "outputs": [],
   "source": [
    "driver.get('https://twitter.com/elonmusk')\n",
    "driver.refresh()\n",
    "sleep(4)"
   ]
  },
  {
   "cell_type": "code",
   "execution_count": 53,
   "metadata": {
    "pycharm": {
     "name": "#%%\n"
    }
   },
   "outputs": [],
   "source": [
    "posts = driver.find_elements(By.XPATH, '//article[@data-testid=\"tweet\"]')"
   ]
  },
  {
   "cell_type": "code",
   "execution_count": 58,
   "metadata": {
    "pycharm": {
     "name": "#%%\n"
    }
   },
   "outputs": [],
   "source": [
    "post = posts[6]\n",
    "head = post.find_element(By.XPATH, './div/div/div/div[2]/div[2]/div[1]/div/div/div[1]/div[1]').text.split('\\n')\n",
    "time = post.find_element(By.XPATH, './div/div/div/div[2]/div[2]/div[1]/div/div/div[1]/a/time').get_attribute('datetime')"
   ]
  },
  {
   "cell_type": "code",
   "execution_count": 59,
   "metadata": {
    "pycharm": {
     "name": "#%%\n"
    }
   },
   "outputs": [
    {
     "data": {
      "text/plain": "['Elon Musk', '@elonmusk']"
     },
     "execution_count": 59,
     "metadata": {},
     "output_type": "execute_result"
    }
   ],
   "source": [
    "head"
   ]
  },
  {
   "cell_type": "code",
   "execution_count": 6,
   "outputs": [
    {
     "data": {
      "text/plain": "['__abstractmethods__',\n '__class__',\n '__delattr__',\n '__dict__',\n '__dir__',\n '__doc__',\n '__enter__',\n '__eq__',\n '__exit__',\n '__format__',\n '__ge__',\n '__getattribute__',\n '__gt__',\n '__hash__',\n '__init__',\n '__init_subclass__',\n '__le__',\n '__lt__',\n '__module__',\n '__ne__',\n '__new__',\n '__reduce__',\n '__reduce_ex__',\n '__repr__',\n '__setattr__',\n '__sizeof__',\n '__str__',\n '__subclasshook__',\n '__weakref__',\n '_abc_impl',\n '_file_detector',\n '_get_cdp_details',\n '_is_remote',\n '_mobile',\n '_shadowroot_cls',\n '_switch_to',\n '_unwrap_value',\n '_web_element_cls',\n '_wrap_value',\n 'add_cookie',\n 'application_cache',\n 'back',\n 'bidi_connection',\n 'capabilities',\n 'caps',\n 'close',\n 'command_executor',\n 'create_options',\n 'create_web_element',\n 'current_url',\n 'current_window_handle',\n 'delete_all_cookies',\n 'delete_cookie',\n 'delete_network_conditions',\n 'desired_capabilities',\n 'error_handler',\n 'execute',\n 'execute_async_script',\n 'execute_cdp_cmd',\n 'execute_script',\n 'file_detector',\n 'file_detector_context',\n 'find_element',\n 'find_element_by_class_name',\n 'find_element_by_css_selector',\n 'find_element_by_id',\n 'find_element_by_link_text',\n 'find_element_by_name',\n 'find_element_by_partial_link_text',\n 'find_element_by_tag_name',\n 'find_element_by_xpath',\n 'find_elements',\n 'find_elements_by_class_name',\n 'find_elements_by_css_selector',\n 'find_elements_by_id',\n 'find_elements_by_link_text',\n 'find_elements_by_name',\n 'find_elements_by_partial_link_text',\n 'find_elements_by_tag_name',\n 'find_elements_by_xpath',\n 'forward',\n 'fullscreen_window',\n 'get',\n 'get_cookie',\n 'get_cookies',\n 'get_issue_message',\n 'get_log',\n 'get_network_conditions',\n 'get_pinned_scripts',\n 'get_screenshot_as_base64',\n 'get_screenshot_as_file',\n 'get_screenshot_as_png',\n 'get_sinks',\n 'get_window_position',\n 'get_window_rect',\n 'get_window_size',\n 'implicitly_wait',\n 'launch_app',\n 'log_types',\n 'maximize_window',\n 'minimize_window',\n 'mobile',\n 'name',\n 'orientation',\n 'page_source',\n 'pin_script',\n 'pinned_scripts',\n 'port',\n 'print_page',\n 'quit',\n 'refresh',\n 'save_screenshot',\n 'service',\n 'session_id',\n 'set_network_conditions',\n 'set_page_load_timeout',\n 'set_permissions',\n 'set_script_timeout',\n 'set_sink_to_use',\n 'set_window_position',\n 'set_window_rect',\n 'set_window_size',\n 'start_client',\n 'start_desktop_mirroring',\n 'start_session',\n 'start_tab_mirroring',\n 'stop_casting',\n 'stop_client',\n 'switch_to',\n 'timeouts',\n 'title',\n 'unpin',\n 'vendor_prefix',\n 'window_handles']"
     },
     "execution_count": 6,
     "metadata": {},
     "output_type": "execute_result"
    }
   ],
   "source": [
    "dir(driver)"
   ],
   "metadata": {
    "collapsed": false,
    "pycharm": {
     "name": "#%%\n"
    }
   }
  }
 ],
 "metadata": {
  "kernelspec": {
   "display_name": "Python 3 (ipykernel)",
   "language": "python",
   "name": "python3"
  },
  "language_info": {
   "codemirror_mode": {
    "name": "ipython",
    "version": 3
   },
   "file_extension": ".py",
   "mimetype": "text/x-python",
   "name": "python",
   "nbconvert_exporter": "python",
   "pygments_lexer": "ipython3",
   "version": "3.9.7"
  }
 },
 "nbformat": 4,
 "nbformat_minor": 1
}