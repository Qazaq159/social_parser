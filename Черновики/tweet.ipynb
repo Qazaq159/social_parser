{
 "cells": [
  {
   "cell_type": "code",
   "execution_count": 538,
   "metadata": {
    "pycharm": {
     "name": "#%%\n"
    }
   },
   "outputs": [
    {
     "name": "stderr",
     "output_type": "stream",
     "text": [
      "/tmp/ipykernel_20181/2128851273.py:56: DeprecationWarning: executable_path has been deprecated, please pass in a Service object\n",
      "  driver = selenium.webdriver.Chrome('drivers/chromedriver')\n"
     ]
    }
   ],
   "source": [
    "import csv\n",
    "from time import sleep\n",
    "from selenium.webdriver.common.keys import Keys\n",
    "import selenium\n",
    "from selenium.webdriver.common.by import By\n",
    "\n",
    "def write_password(driver):\n",
    "    sleep(1.5)\n",
    "    password = driver.find_element(by=By.XPATH,\n",
    "                                   value='//input[@autocomplete=\"current-password\"]')\n",
    "    password.send_keys('your password')\n",
    "    password.send_keys(Keys.RETURN)\n",
    "\n",
    "def get_tweet_data(post):\n",
    "    head = post.find_element(By.XPATH, './/div[2]/div[2]/div[1]/div/div/div[1]/div[1]').text.split('\\n')\n",
    "\n",
    "    try:\n",
    "        link = post.find_element(By.XPATH, './/div[2]/div[2]/div[2]/div[2]//a').get_attribute('href')\n",
    "    except:\n",
    "        link = ''\n",
    "\n",
    "    try:\n",
    "        time = post.find_element(By.XPATH, './/div[2]/div[2]/div[1]/div/div/div[1]/a/time').get_attribute('datetime')\n",
    "    except:\n",
    "        time = ''\n",
    "\n",
    "    bottom = post.find_element(By.XPATH, './/div[2]/div[2]/div[2]')\n",
    "    text = post.find_element(By.XPATH,'.//div[2]/div[2]/div[2]/div[1]').text\n",
    "    nickname = head[1]\n",
    "    name = head[0]\n",
    "    reply = bottom.find_element(By.XPATH, './/div[@data-testid=\"reply\"]').get_attribute('aria-label')\n",
    "\n",
    "    try:\n",
    "        retweet = bottom.find_element(By.XPATH, './/div[@data-testid=\"retweet\"]').get_attribute('aria-label')\n",
    "    except:\n",
    "        retweet = bottom.find_element(By.XPATH, './/div[@data-testid=\"unretweet\"]').get_attribute(\"aria-label\")\n",
    "\n",
    "    try:\n",
    "        like = bottom.find_element(By.XPATH, './/div[@data-testid=\"unlike\"]').get_attribute('aria-label')\n",
    "    except:\n",
    "        like = bottom.find_element(By.XPATH, './/div[@data-testid=\"like\"]').get_attribute('aria-label')\n",
    "\n",
    "    tweet = (nickname, name, text, link, reply, retweet, like)\n",
    "    id = ''\n",
    "    for i in tweet:\n",
    "        id += i\n",
    "\n",
    "    return [id, time, nickname, name, text, link, reply, retweet, like]\n",
    "\n",
    "\n",
    "options = selenium.webdriver.ChromeOptions()\n",
    "\n",
    "options.add_argument('--no-sandbox')\n",
    "options.add_argument('--disable-dev-shm-usage')\n",
    "\n",
    "driver = selenium.webdriver.Chrome('drivers/chromedriver')\n",
    "\n",
    "driver.get('https://twitter.com/login')\n",
    "driver.maximize_window()\n",
    "sleep(2)"
   ]
  },
  {
   "cell_type": "code",
   "execution_count": 539,
   "metadata": {
    "pycharm": {
     "name": "#%%\n"
    }
   },
   "outputs": [],
   "source": [
    "username = driver.find_element(by=By.XPATH, value='//input[@autocomplete=\"username\"]')\n",
    "username.send_keys('your email')\n",
    "username.send_keys(Keys.RETURN)"
   ]
  },
  {
   "cell_type": "code",
   "execution_count": 540,
   "metadata": {
    "pycharm": {
     "name": "#%%\n"
    }
   },
   "outputs": [],
   "source": [
    "try:\n",
    "    write_password(driver)\n",
    "    sleep(2)\n",
    "except:\n",
    "    login = driver.find_element(by=By.XPATH,\n",
    "                                value='//input[@autocomplete=\"on\"]')\n",
    "    login.send_keys('your username')\n",
    "    login.send_keys(Keys.RETURN)\n",
    "    sleep(1)\n",
    "\n",
    "    write_password(driver)\n",
    "    sleep(2)"
   ]
  },
  {
   "cell_type": "code",
   "execution_count": 541,
   "metadata": {
    "pycharm": {
     "name": "#%%\n"
    }
   },
   "outputs": [],
   "source": [
    "driver.get('https://twitter.com/elonmusk')\n",
    "sleep(4)"
   ]
  },
  {
   "cell_type": "code",
   "execution_count": 546,
   "metadata": {
    "pycharm": {
     "name": "#%%\n"
    }
   },
   "outputs": [],
   "source": [
    "driver.refresh()\n",
    "sleep(5)\n",
    "data = []\n",
    "tweets_ids = set()\n",
    "# last_pos = driver.execute_script('return window.pageYOffset;')\n",
    "# scrolling = True\n",
    "\n",
    "body = driver.find_element(By.TAG_NAME, 'body')\n",
    "prev_h = driver.execute_script(\"return window.pageYOffset;\")\n",
    "\n",
    "while True:\n",
    "    if len(data) > 20:\n",
    "        break\n",
    "\n",
    "    for i in range(4):\n",
    "        body.send_keys(Keys.PAGE_DOWN)\n",
    "\n",
    "    sleep(2)\n",
    "\n",
    "    page_cards = driver.find_elements(By.XPATH, '//article[@data-testid=\"tweet\"]')\n",
    "    for card in page_cards[-40:]:\n",
    "        tweet = get_tweet_data(card)\n",
    "\n",
    "        if tweet:\n",
    "            tweet_id = tweet[0]\n",
    "\n",
    "            if tweet_id not in tweets_ids:\n",
    "                tweets_ids.add(tweet_id)\n",
    "                tweet.pop(0)\n",
    "                data.append(tweet)\n",
    "\n",
    "    new_h = driver.execute_script(\"return window.pageYOffset;\")\n",
    "\n",
    "    if new_h == prev_h:\n",
    "        for i in range(4):\n",
    "            body.send_keys(Keys.PAGE_UP)\n",
    "        sleep(1)\n",
    "\n",
    "    else:\n",
    "        prev_h = new_h\n",
    "\n"
   ]
  },
  {
   "cell_type": "markdown",
   "source": [],
   "metadata": {
    "collapsed": false,
    "pycharm": {
     "name": "#%% md\n"
    }
   }
  },
  {
   "cell_type": "code",
   "execution_count": 548,
   "outputs": [],
   "source": [
    "from operator import itemgetter\n",
    "\n",
    "data.sort(key=itemgetter(0), reverse=True)"
   ],
   "metadata": {
    "collapsed": false,
    "pycharm": {
     "name": "#%%\n"
    }
   }
  },
  {
   "cell_type": "code",
   "execution_count": 549,
   "outputs": [
    {
     "name": "stdout",
     "output_type": "stream",
     "text": [
      "2022-05-01T06:23:15.000Z\n",
      "2022-04-29T21:37:16.000Z\n",
      "2022-04-29T21:19:50.000Z\n",
      "2022-04-29T12:44:05.000Z\n",
      "2022-04-29T12:28:10.000Z\n",
      "2022-04-28T20:58:09.000Z\n",
      "2022-04-28T20:53:49.000Z\n",
      "2022-04-28T17:47:22.000Z\n",
      "2022-04-28T02:14:58.000Z\n",
      "2022-04-28T01:57:27.000Z\n",
      "2022-04-28T01:57:27.000Z\n",
      "2022-04-28T01:53:50.000Z\n",
      "2022-04-28T01:53:50.000Z\n",
      "2022-04-28T00:56:58.000Z\n",
      "2022-04-28T00:13:47.000Z\n",
      "2022-04-28T00:13:47.000Z\n",
      "2022-04-27T23:41:36.000Z\n",
      "2022-04-27T20:38:20.000Z\n",
      "2022-04-27T20:38:20.000Z\n",
      "2022-04-27T18:06:21.000Z\n",
      "2022-04-27T17:28:36.000Z\n",
      "2022-04-27T17:11:41.000Z\n",
      "2022-04-27T08:07:56.000Z\n",
      "2022-04-27T05:01:00.000Z\n",
      "2022-04-27T04:55:45.000Z\n",
      "2022-04-27T04:00:22.000Z\n",
      "2022-04-26T20:15:32.000Z\n",
      "2022-04-26T20:09:46.000Z\n"
     ]
    }
   ],
   "source": [
    "for i in data:\n",
    "    print(i[0])\n"
   ],
   "metadata": {
    "collapsed": false,
    "pycharm": {
     "name": "#%%\n"
    }
   }
  },
  {
   "cell_type": "code",
   "execution_count": 493,
   "outputs": [],
   "source": [
    "with open('musk_twitter.csv', 'w', newline='', encoding='utf-8') as f:\n",
    "    header = ['date', 'username', 'name', 'text', 'content', 'reply', 'retweet', 'like']\n",
    "    writer = csv.writer(f)\n",
    "    writer.writerow(header)\n",
    "    writer.writerows(data)"
   ],
   "metadata": {
    "collapsed": false,
    "pycharm": {
     "name": "#%%\n"
    }
   }
  },
  {
   "cell_type": "code",
   "execution_count": 537,
   "outputs": [
    {
     "data": {
      "text/plain": "27"
     },
     "execution_count": 537,
     "metadata": {},
     "output_type": "execute_result"
    }
   ],
   "source": [
    "len(data)"
   ],
   "metadata": {
    "collapsed": false,
    "pycharm": {
     "name": "#%%\n"
    }
   }
  },
  {
   "cell_type": "markdown",
   "source": [],
   "metadata": {
    "collapsed": false,
    "pycharm": {
     "name": "#%% md\n"
    }
   }
  }
 ],
 "metadata": {
  "kernelspec": {
   "display_name": "Python 3 (ipykernel)",
   "language": "python",
   "name": "python3"
  },
  "language_info": {
   "codemirror_mode": {
    "name": "ipython",
    "version": 3
   },
   "file_extension": ".py",
   "mimetype": "text/x-python",
   "name": "python",
   "nbconvert_exporter": "python",
   "pygments_lexer": "ipython3",
   "version": "3.9.7"
  }
 },
 "nbformat": 4,
 "nbformat_minor": 1
}